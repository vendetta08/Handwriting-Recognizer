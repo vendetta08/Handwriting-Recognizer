{
 "cells": [
  {
   "cell_type": "code",
   "execution_count": null,
   "metadata": {
    "_cell_guid": "b1076dfc-b9ad-4769-8c92-a6c4dae69d19",
    "_uuid": "8f2839f25d086af736a60e9eeb907d3b93b6e0e5",
    "id": "-WJcCyusd8Tw"
   },
   "outputs": [],
   "source": [
    "import pandas as pd\n",
    "import numpy as np\n",
    "import keras\n",
    "import keras.layers as L\n",
    "import keras.models as M\n",
    "import tensorflow as tf\n",
    "from PIL import Image\n",
    "import os\n",
    "import matplotlib.pyplot as plt\n",
    "import cv2\n",
    "from keras.utils import Sequence"
   ]
  },
  {
   "cell_type": "code",
   "execution_count": null,
   "metadata": {
    "id": "anK9yXuJeByL"
   },
   "outputs": [],
   "source": [
    "from google.colab import drive\n",
    "drive.mount('/content/drive')"
   ]
  },
  {
   "cell_type": "code",
   "execution_count": null,
   "metadata": {
    "id": "bYW3DDekd8T1"
   },
   "outputs": [],
   "source": [
    "train=pd.read_csv('../input/handwriting-recognition/written_name_train_v2.csv')\n",
    "validation=pd.read_csv('../input/handwriting-recognition/written_name_validation_v2.csv')"
   ]
  },
  {
   "cell_type": "code",
   "execution_count": null,
   "metadata": {
    "id": "lezvn2Gcd8T2"
   },
   "outputs": [],
   "source": [
    "train.dropna(inplace=True)"
   ]
  },
  {
   "cell_type": "code",
   "execution_count": null,
   "metadata": {
    "id": "SPCeoJRzd8T2",
    "outputId": "0de312cb-e7cb-411d-ad0c-4e9970c039d8"
   },
   "outputs": [
    {
     "data": {
      "text/html": [
       "<div>\n",
       "<style scoped>\n",
       "    .dataframe tbody tr th:only-of-type {\n",
       "        vertical-align: middle;\n",
       "    }\n",
       "\n",
       "    .dataframe tbody tr th {\n",
       "        vertical-align: top;\n",
       "    }\n",
       "\n",
       "    .dataframe thead th {\n",
       "        text-align: right;\n",
       "    }\n",
       "</style>\n",
       "<table border=\"1\" class=\"dataframe\">\n",
       "  <thead>\n",
       "    <tr style=\"text-align: right;\">\n",
       "      <th></th>\n",
       "      <th>FILENAME</th>\n",
       "      <th>IDENTITY</th>\n",
       "    </tr>\n",
       "  </thead>\n",
       "  <tbody>\n",
       "    <tr>\n",
       "      <th>0</th>\n",
       "      <td>TRAIN_00001.jpg</td>\n",
       "      <td>BALTHAZAR</td>\n",
       "    </tr>\n",
       "    <tr>\n",
       "      <th>1</th>\n",
       "      <td>TRAIN_00002.jpg</td>\n",
       "      <td>SIMON</td>\n",
       "    </tr>\n",
       "    <tr>\n",
       "      <th>2</th>\n",
       "      <td>TRAIN_00003.jpg</td>\n",
       "      <td>BENES</td>\n",
       "    </tr>\n",
       "    <tr>\n",
       "      <th>3</th>\n",
       "      <td>TRAIN_00004.jpg</td>\n",
       "      <td>LA LOVE</td>\n",
       "    </tr>\n",
       "    <tr>\n",
       "      <th>4</th>\n",
       "      <td>TRAIN_00005.jpg</td>\n",
       "      <td>DAPHNE</td>\n",
       "    </tr>\n",
       "  </tbody>\n",
       "</table>\n",
       "</div>"
      ],
      "text/plain": [
       "          FILENAME   IDENTITY\n",
       "0  TRAIN_00001.jpg  BALTHAZAR\n",
       "1  TRAIN_00002.jpg      SIMON\n",
       "2  TRAIN_00003.jpg      BENES\n",
       "3  TRAIN_00004.jpg    LA LOVE\n",
       "4  TRAIN_00005.jpg     DAPHNE"
      ]
     },
     "execution_count": 6,
     "metadata": {},
     "output_type": "execute_result"
    }
   ],
   "source": [
    "train.head()"
   ]
  },
  {
   "cell_type": "code",
   "execution_count": null,
   "metadata": {
    "id": "GJaMPbYPd8T3",
    "outputId": "c6ac9fec-8317-4575-9e14-786134d21bbf"
   },
   "outputs": [
    {
     "data": {
      "text/html": [
       "<div>\n",
       "<style scoped>\n",
       "    .dataframe tbody tr th:only-of-type {\n",
       "        vertical-align: middle;\n",
       "    }\n",
       "\n",
       "    .dataframe tbody tr th {\n",
       "        vertical-align: top;\n",
       "    }\n",
       "\n",
       "    .dataframe thead th {\n",
       "        text-align: right;\n",
       "    }\n",
       "</style>\n",
       "<table border=\"1\" class=\"dataframe\">\n",
       "  <thead>\n",
       "    <tr style=\"text-align: right;\">\n",
       "      <th></th>\n",
       "      <th>FILENAME</th>\n",
       "      <th>IDENTITY</th>\n",
       "    </tr>\n",
       "  </thead>\n",
       "  <tbody>\n",
       "    <tr>\n",
       "      <th>20507</th>\n",
       "      <td>TRAIN_20508.jpg</td>\n",
       "      <td>zucchi</td>\n",
       "    </tr>\n",
       "  </tbody>\n",
       "</table>\n",
       "</div>"
      ],
      "text/plain": [
       "              FILENAME IDENTITY\n",
       "20507  TRAIN_20508.jpg   zucchi"
      ]
     },
     "execution_count": 7,
     "metadata": {},
     "output_type": "execute_result"
    }
   ],
   "source": [
    "train[train['IDENTITY']=='zucchi']"
   ]
  },
  {
   "cell_type": "code",
   "execution_count": null,
   "metadata": {
    "id": "DzOIQzD2d8T4",
    "outputId": "4c92aba5-e4df-4093-8dd3-4c26bcf64afd"
   },
   "outputs": [
    {
     "data": {
      "text/html": [
       "<div>\n",
       "<style scoped>\n",
       "    .dataframe tbody tr th:only-of-type {\n",
       "        vertical-align: middle;\n",
       "    }\n",
       "\n",
       "    .dataframe tbody tr th {\n",
       "        vertical-align: top;\n",
       "    }\n",
       "\n",
       "    .dataframe thead th {\n",
       "        text-align: right;\n",
       "    }\n",
       "</style>\n",
       "<table border=\"1\" class=\"dataframe\">\n",
       "  <thead>\n",
       "    <tr style=\"text-align: right;\">\n",
       "      <th></th>\n",
       "      <th>FILENAME</th>\n",
       "      <th>IDENTITY</th>\n",
       "      <th>Length</th>\n",
       "    </tr>\n",
       "  </thead>\n",
       "  <tbody>\n",
       "    <tr>\n",
       "      <th>10278</th>\n",
       "      <td>TRAIN_10279.jpg</td>\n",
       "      <td>DOSSANTOS LASCONCELOS</td>\n",
       "      <td>21</td>\n",
       "    </tr>\n",
       "    <tr>\n",
       "      <th>108567</th>\n",
       "      <td>TRAIN_108568.jpg</td>\n",
       "      <td>O ZUARRDI EREBEVITRAC</td>\n",
       "      <td>21</td>\n",
       "    </tr>\n",
       "    <tr>\n",
       "      <th>156500</th>\n",
       "      <td>TRAIN_156501.jpg</td>\n",
       "      <td>ANDRIANNARISOA--DEGHI</td>\n",
       "      <td>21</td>\n",
       "    </tr>\n",
       "    <tr>\n",
       "      <th>160575</th>\n",
       "      <td>TRAIN_160576.jpg</td>\n",
       "      <td>LOUISIANE - EVANGELIN</td>\n",
       "      <td>21</td>\n",
       "    </tr>\n",
       "    <tr>\n",
       "      <th>174121</th>\n",
       "      <td>TRAIN_174122.jpg</td>\n",
       "      <td>GU ILLOSSOO - OARRIBA</td>\n",
       "      <td>21</td>\n",
       "    </tr>\n",
       "    <tr>\n",
       "      <th>212583</th>\n",
       "      <td>TRAIN_212584.jpg</td>\n",
       "      <td>DE MALEZIEUX DU HAMEL</td>\n",
       "      <td>21</td>\n",
       "    </tr>\n",
       "    <tr>\n",
       "      <th>220135</th>\n",
       "      <td>TRAIN_220136.jpg</td>\n",
       "      <td>COSTREL DE CORAINVILL</td>\n",
       "      <td>21</td>\n",
       "    </tr>\n",
       "    <tr>\n",
       "      <th>229529</th>\n",
       "      <td>TRAIN_229530.jpg</td>\n",
       "      <td>ROUSSEAV -- CHAUDIERE</td>\n",
       "      <td>21</td>\n",
       "    </tr>\n",
       "    <tr>\n",
       "      <th>230011</th>\n",
       "      <td>TRAIN_230012.jpg</td>\n",
       "      <td>BEKNARD DE LAVERNETTE</td>\n",
       "      <td>21</td>\n",
       "    </tr>\n",
       "    <tr>\n",
       "      <th>308769</th>\n",
       "      <td>TRAIN_308770.jpg</td>\n",
       "      <td>DATE NAISSANCE CLASSE</td>\n",
       "      <td>21</td>\n",
       "    </tr>\n",
       "    <tr>\n",
       "      <th>325215</th>\n",
       "      <td>TRAIN_325216.jpg</td>\n",
       "      <td>BEHARY - LAUL - SIRDE</td>\n",
       "      <td>21</td>\n",
       "    </tr>\n",
       "  </tbody>\n",
       "</table>\n",
       "</div>"
      ],
      "text/plain": [
       "                FILENAME               IDENTITY  Length\n",
       "10278    TRAIN_10279.jpg  DOSSANTOS LASCONCELOS      21\n",
       "108567  TRAIN_108568.jpg  O ZUARRDI EREBEVITRAC      21\n",
       "156500  TRAIN_156501.jpg  ANDRIANNARISOA--DEGHI      21\n",
       "160575  TRAIN_160576.jpg  LOUISIANE - EVANGELIN      21\n",
       "174121  TRAIN_174122.jpg  GU ILLOSSOO - OARRIBA      21\n",
       "212583  TRAIN_212584.jpg  DE MALEZIEUX DU HAMEL      21\n",
       "220135  TRAIN_220136.jpg  COSTREL DE CORAINVILL      21\n",
       "229529  TRAIN_229530.jpg  ROUSSEAV -- CHAUDIERE      21\n",
       "230011  TRAIN_230012.jpg  BEKNARD DE LAVERNETTE      21\n",
       "308769  TRAIN_308770.jpg  DATE NAISSANCE CLASSE      21\n",
       "325215  TRAIN_325216.jpg  BEHARY - LAUL - SIRDE      21"
      ]
     },
     "execution_count": 8,
     "metadata": {},
     "output_type": "execute_result"
    }
   ],
   "source": [
    "train['Length']=train['IDENTITY'].apply(lambda x : len(str(x)))\n",
    "train=train[train['Length']<=21]\n",
    "train['IDENTITY']=train['IDENTITY'].str.upper()\n",
    "train[train['Length']==max(train['Length'])]"
   ]
  },
  {
   "cell_type": "code",
   "execution_count": null,
   "metadata": {
    "id": "mj2zkHZ6d8T5"
   },
   "outputs": [],
   "source": [
    "train=train.sample(frac=0.8,random_state=42)\n",
    "validation=validation.sample(frac=0.1)"
   ]
  },
  {
   "cell_type": "code",
   "execution_count": null,
   "metadata": {
    "id": "fFOWJD9Od8T5"
   },
   "outputs": [],
   "source": [
    "characters=set()\n",
    "train['IDENTITY']=train['IDENTITY'].apply(lambda x: str(x))\n",
    "for i in train['IDENTITY'].values:\n",
    "    for j in i :\n",
    "        if j not in characters :\n",
    "            characters.add(j)\n",
    "characters=sorted(characters)"
   ]
  },
  {
   "cell_type": "code",
   "execution_count": null,
   "metadata": {
    "id": "8Bd2oGUjd8T6"
   },
   "outputs": [],
   "source": [
    "# 2 Dictionaries  :   Turn all ur characters to num and vice versa\n",
    "char_to_label = {char:label for label,char in enumerate(characters)}\n",
    "label_to_char = {label:char for label,char in enumerate(characters)}"
   ]
  },
  {
   "cell_type": "code",
   "execution_count": null,
   "metadata": {
    "id": "UONRmqg3d8T7"
   },
   "outputs": [],
   "source": [
    "path_train='../input/handwriting-recognition/train_v2/train'\n",
    "path_validation='../input/handwriting-recognition/validation_v2/validation'"
   ]
  },
  {
   "cell_type": "code",
   "execution_count": null,
   "metadata": {
    "id": "LFYInXqKd8T8"
   },
   "outputs": [],
   "source": [
    "# Data Generator\n",
    "class DataGenerator(Sequence):\n",
    "    def __init__(self,dataframe,path,char_map,batch_size=128,img_size=(256,64),\n",
    "                 downsample_factor=4,max_length=22,shuffle=True):\n",
    "        self.dataframe=dataframe\n",
    "        self.path=path\n",
    "        self.char_map=char_map\n",
    "        self.batch_size=batch_size\n",
    "        self.width=img_size[0]\n",
    "        self.height=img_size[1]\n",
    "        self.downsample_factor=downsample_factor\n",
    "        self.max_length=max_length\n",
    "        self.shuffle=shuffle\n",
    "        self.indices = np.arange(len(dataframe))\n",
    "        self.on_epoch_end()\n",
    "        \n",
    "    def __len__(self):\n",
    "        return len(self.dataframe)//self.batch_size\n",
    "    \n",
    "    def __getitem__(self,idx):\n",
    "        curr_batch_idx=self.indices[idx*self.batch_size:(idx+1)*self.batch_size]\n",
    "        batch_images=np.ones((self.batch_size,self.width,self.height,1),dtype=np.float32)\n",
    "        batch_labels=np.ones((self.batch_size,self.max_length),dtype=np.float32)\n",
    "        input_length=np.ones((self.batch_size,1),dtype=np.float32)*(self.width//self.downsample_factor-2)\n",
    "        label_length=np.zeros((self.batch_size,1),dtype=np.int64)\n",
    "        for i,idx in enumerate(curr_batch_idx):\n",
    "            img_path=self.dataframe['FILENAME'].values[idx]\n",
    "            img=cv2.imread(self.path+'/'+img_path)\n",
    "            img=cv2.cvtColor(img, cv2.COLOR_BGR2GRAY)\n",
    "            img=cv2.resize(img,(self.width,self.height))\n",
    "            img=(img/255).astype(np.float32)\n",
    "            img=img.T\n",
    "            img=np.expand_dims(img,axis=-1)\n",
    "            text=self.dataframe['IDENTITY'].values[idx]\n",
    "            text=str(text)\n",
    "            label=[]\n",
    "            for j in text: \n",
    "                if j in self.char_map :\n",
    "                    label.append(self.char_map[j])\n",
    "                else:\n",
    "                    label.append(100)\n",
    "            label.extend([100]*(22-len(label)))\n",
    "            batch_images[i]=img\n",
    "            batch_labels[i]=label\n",
    "            label_length[i]=len(label)\n",
    "        batch_inputs= {\n",
    "                'input_data':batch_images,\n",
    "                'input_label':batch_labels,\n",
    "                'input_length':input_length,\n",
    "                'label_length':label_length\n",
    "                \n",
    "            }\n",
    "        return batch_inputs,np.zeros((self.batch_size),dtype=np.float32)\n",
    "    def on_epoch_end(self):\n",
    "        if self.shuffle == True :\n",
    "            np.random.shuffle(self.indices)\n",
    "        "
   ]
  },
  {
   "cell_type": "code",
   "execution_count": null,
   "metadata": {
    "id": "ddV_wlWEd8T_"
   },
   "outputs": [],
   "source": [
    "train_generator=DataGenerator(train,path_train,char_to_label)\n",
    "validation_generator=DataGenerator(validation,path_validation,char_to_label)"
   ]
  },
  {
   "cell_type": "code",
   "execution_count": null,
   "metadata": {
    "id": "BEWqfy3sd8UA"
   },
   "outputs": [],
   "source": [
    "# Making CTC Function\n",
    "class CTCLayer(L.Layer):\n",
    "    def __init__(self, name=None):\n",
    "        super().__init__(name=name)\n",
    "        self.loss_fn = keras.backend.ctc_batch_cost\n",
    "\n",
    "    def call(self, y_true, y_pred, input_length, label_length):\n",
    "        # Compute the training-time loss value and add it\n",
    "        # to the layer using `self.add_loss()`.\n",
    "        loss = self.loss_fn(y_true, y_pred, input_length, label_length)\n",
    "        self.add_loss(loss)\n",
    "        \n",
    "        # On test time, just return the computed loss\n",
    "        return loss"
   ]
  },
  {
   "cell_type": "code",
   "execution_count": null,
   "metadata": {
    "id": "pqAE_pKpd8UB"
   },
   "outputs": [],
   "source": [
    "# Making the Model now\n",
    "def make_model():\n",
    "    inp=L.Input(shape=(256,64,1),dtype=np.float32,name='input_data')\n",
    "    labels=L.Input(shape=[22],dtype=np.float32,name='input_label')\n",
    "    input_length=L.Input(shape=[1],dtype=np.int64,name='input_length')\n",
    "    label_length=L.Input(shape=[1],dtype=np.int64,name='label_length')\n",
    "    x=L.Conv2D(64,(3,3),activation='relu',padding='same',kernel_initializer='he_normal')(inp)\n",
    "    x=L.MaxPooling2D(pool_size=(2,2))(x)\n",
    "    x=L.Dropout(0.3)(x)\n",
    "    x=L.Conv2D(128,(3,3),activation='relu',padding='same',kernel_initializer='he_normal')(x)\n",
    "    x=L.MaxPooling2D(pool_size=(2,2))(x)\n",
    "    x=L.Dropout(0.3)(x)\n",
    "    new_shape=((256//4),(64//4)*128)\n",
    "    x=L.Reshape(new_shape)(x)\n",
    "    x=L.Dense(64,activation='relu')(x)\n",
    "    x=L.Dropout(0.2)(x)\n",
    "    x=L.Bidirectional(L.LSTM(128,return_sequences=True,dropout=0.2))(x)\n",
    "    x=L.Bidirectional(L.LSTM(64,return_sequences=True,dropout=0.25))(x)\n",
    "    x=L.Dense(len(characters)+1,activation='softmax',kernel_initializer='he_normal',name='Dense_output')(x)\n",
    "    output=CTCLayer(name='outputs')(labels,x,input_length,label_length)\n",
    "    model=M.Model([inp,labels,input_length,label_length],output)\n",
    "    # Optimizer\n",
    "    sgd = keras.optimizers.SGD(learning_rate=0.002,\n",
    "                               decay=1e-6,\n",
    "                               momentum=0.9,\n",
    "                               nesterov=True,\n",
    "                               clipnorm=5)\n",
    "    model.compile(optimizer=sgd)\n",
    "    return model"
   ]
  },
  {
   "cell_type": "code",
   "execution_count": null,
   "metadata": {
    "id": "1b_UPdOgd8UC"
   },
   "outputs": [],
   "source": [
    "model=make_model()\n",
    "model.summary()"
   ]
  },
  {
   "cell_type": "code",
   "execution_count": null,
   "metadata": {
    "id": "xFeY4QAFd8UD"
   },
   "outputs": [],
   "source": [
    "# Add early stopping\n",
    "es = keras.callbacks.EarlyStopping(monitor='val_loss',\n",
    "                                   patience=5,\n",
    "                                   restore_best_weights=True)\n",
    "\n",
    "# Train the model\n",
    "if 'prediction_model_ocr.h5' not in os.listdir('./'):\n",
    "    history = model.fit(train_generator,steps_per_epoch=1000,validation_data=validation_generator,\n",
    "                        epochs=8)\n"
   ]
  },
  {
   "cell_type": "code",
   "execution_count": null,
   "metadata": {
    "id": "Q9wRR7pBd8UD",
    "outputId": "2e460529-7f78-4b30-a612-b2b5af9ee31b"
   },
   "outputs": [
    {
     "name": "stdout",
     "output_type": "stream",
     "text": [
      "Model: \"model_3\"\n",
      "_________________________________________________________________\n",
      "Layer (type)                 Output Shape              Param #   \n",
      "=================================================================\n",
      "input_data (InputLayer)      [(None, 256, 64, 1)]      0         \n",
      "_________________________________________________________________\n",
      "conv2d (Conv2D)              (None, 256, 64, 64)       640       \n",
      "_________________________________________________________________\n",
      "max_pooling2d (MaxPooling2D) (None, 128, 32, 64)       0         \n",
      "_________________________________________________________________\n",
      "dropout (Dropout)            (None, 128, 32, 64)       0         \n",
      "_________________________________________________________________\n",
      "conv2d_1 (Conv2D)            (None, 128, 32, 128)      73856     \n",
      "_________________________________________________________________\n",
      "max_pooling2d_1 (MaxPooling2 (None, 64, 16, 128)       0         \n",
      "_________________________________________________________________\n",
      "dropout_1 (Dropout)          (None, 64, 16, 128)       0         \n",
      "_________________________________________________________________\n",
      "reshape (Reshape)            (None, 64, 2048)          0         \n",
      "_________________________________________________________________\n",
      "dense (Dense)                (None, 64, 64)            131136    \n",
      "_________________________________________________________________\n",
      "dropout_2 (Dropout)          (None, 64, 64)            0         \n",
      "_________________________________________________________________\n",
      "bidirectional (Bidirectional (None, 64, 256)           197632    \n",
      "_________________________________________________________________\n",
      "bidirectional_1 (Bidirection (None, 64, 128)           164352    \n",
      "_________________________________________________________________\n",
      "Dense_output (Dense)         (None, 64, 31)            3999      \n",
      "=================================================================\n",
      "Total params: 571,615\n",
      "Trainable params: 571,615\n",
      "Non-trainable params: 0\n",
      "_________________________________________________________________\n"
     ]
    }
   ],
   "source": [
    "prediction_model = keras.models.Model(model.get_layer(name='input_data').input,\n",
    "                                        model.get_layer(name='Dense_output').output)\n",
    "prediction_model.summary()"
   ]
  },
  {
   "cell_type": "code",
   "execution_count": null,
   "metadata": {
    "id": "eVRuhddxd8UF"
   },
   "outputs": [],
   "source": [
    "if 'prediction_model_ocr.h5' not in os.listdir('./'):\n",
    "    prediction_model.save('prediction_model_ocr.h5')\n",
    "    prediction_model=M.load_model('prediction_model_ocr.h5')"
   ]
  },
  {
   "cell_type": "code",
   "execution_count": null,
   "metadata": {
    "id": "t3Q7P-00d8UG"
   },
   "outputs": [],
   "source": [
    "label_to_char[100]=''"
   ]
  },
  {
   "cell_type": "code",
   "execution_count": null,
   "metadata": {
    "id": "0dscRwbJd8UG"
   },
   "outputs": [],
   "source": [
    "# A utility to decode the output of the network\n",
    "def decode_batch_predictions(pred):\n",
    "    pred = pred[:, :-2]\n",
    "    input_len = np.ones(pred.shape[0])*pred.shape[1]\n",
    "    \n",
    "    # Use greedy search. For complex tasks, you can use beam search\n",
    "    results = keras.backend.ctc_decode(pred, \n",
    "                                        input_length=input_len,\n",
    "                                        greedy=True)[0][0]\n",
    "    \n",
    "    # Iterate over the results and get back the text\n",
    "    output_text = []\n",
    "    for res in results.numpy():\n",
    "        outstr = ''\n",
    "        for c in res:\n",
    "            if c < len(characters) and c >=0:\n",
    "                outstr += label_to_char[c]\n",
    "        output_text.append(outstr)\n",
    "    \n",
    "    # return final text results\n",
    "    return output_text"
   ]
  },
  {
   "cell_type": "code",
   "execution_count": null,
   "metadata": {
    "id": "shPe4LEEd8UH",
    "outputId": "cbe89c81-7e86-437c-c07b-d7f999403db2"
   },
   "outputs": [
    {
     "name": "stdout",
     "output_type": "stream",
     "text": [
      "Ground truth: MESSAOUDI \t Predicted: MESSAOUDI\n",
      "Ground truth: KEVIN \t Predicted: KEVIN\n",
      "Ground truth: SERENA \t Predicted: SERENA\n",
      "Ground truth: GIOVACCHINI \t Predicted: GLOVACCHINI\n",
      "Ground truth: ACKET \t Predicted: ALHET\n",
      "Ground truth: LECOMTE \t Predicted: LELOMTE\n",
      "Ground truth: LAURE \t Predicted: LAURE\n",
      "Ground truth: TITOUAN \t Predicted: TITOUAN\n",
      "Ground truth: ALVAREZ \t Predicted: ALVAREZ\n",
      "Ground truth: MAZZOLI \t Predicted: MAZZOLI\n",
      "Ground truth: STANISLAS \t Predicted: STANISLAS\n",
      "Ground truth: LUNA \t Predicted: LUNA\n",
      "Ground truth: LEANNE \t Predicted: LEANNE\n",
      "Ground truth: CLEMENT \t Predicted: CLEMENT\n",
      "Ground truth: JOHANNA \t Predicted: DOHANNA\n",
      "Ground truth: CARON \t Predicted: CARON\n",
      "Ground truth: PINGAULT \t Predicted: PINGAULT\n",
      "Ground truth: LYHANA \t Predicted: LYMANA\n",
      "Ground truth: SELEN \t Predicted: SELEN\n",
      "Ground truth: FOUBERT \t Predicted: FOUBERT\n",
      "Ground truth: EMMA \t Predicted: EMMA\n",
      "Ground truth: KALONJI \t Predicted: KALONST\n",
      "Ground truth: KYLIAN \t Predicted: KYLIAN\n",
      "Ground truth: ADRIEN \t Predicted: ADRIEN\n",
      "Ground truth: LISE \t Predicted: LISE\n",
      "Ground truth: NATHAN \t Predicted: NATHAN\n",
      "Ground truth: NEDELEC \t Predicted: NEDELEC\n",
      "Ground truth: BADRA \t Predicted: BADRA\n",
      "Ground truth: GERARD \t Predicted: GERARD\n",
      "Ground truth: VICTOR \t Predicted: VIOTOR\n",
      "Ground truth: BOUDAAI \t Predicted: BOUDAAI\n",
      "Ground truth: ANTOINE \t Predicted: ANTOINE\n",
      "Ground truth: VEIGNIE \t Predicted: VEIGNIE\n",
      "Ground truth: FABRE \t Predicted: FABRE\n",
      "Ground truth: KYLLIAN \t Predicted: KILLIAN\n",
      "Ground truth: LYDIA \t Predicted: LYDIA\n",
      "Ground truth: ROY \t Predicted: ROY\n",
      "Ground truth: PIERRE \t Predicted: PIERRE\n",
      "Ground truth: FAYOLLE \t Predicted: FAVOLLE\n",
      "Ground truth: NAEL \t Predicted: MAEL\n",
      "Ground truth: ANTONIN \t Predicted: ANTONIN\n",
      "Ground truth: CELIA \t Predicted: CELIA\n",
      "Ground truth: CLEMENCE \t Predicted: CLEMENCE\n",
      "Ground truth: NASSIN \t Predicted: NASSIH\n",
      "Ground truth: LYUKA \t Predicted: LYUKA\n",
      "Ground truth: AXEL \t Predicted: AXEL\n",
      "Ground truth: SIMON \t Predicted: SIMON\n",
      "Ground truth: EHMA \t Predicted: EMMA\n",
      "Ground truth: VAVASSEUR \t Predicted: VAVASSEUR\n",
      "Ground truth: VERNOUX \t Predicted: LATTMA\n",
      "Ground truth: AUDREY \t Predicted: AUDREY\n",
      "Ground truth: BENJAMIN \t Predicted: BENJAMIN\n",
      "Ground truth: BATAILLON \t Predicted: BATAILLON\n",
      "Ground truth: RICHARD \t Predicted: AICHARS\n",
      "Ground truth: HARIM \t Predicted: MARIH\n",
      "Ground truth: GARANCE \t Predicted: GARANCE\n",
      "Ground truth: FANNY \t Predicted: FANNY\n",
      "Ground truth: BREHON \t Predicted: BREHON\n",
      "Ground truth: POTTIER \t Predicted: POTTIER\n",
      "Ground truth: NEBOUT \t Predicted: NEROUT\n",
      "Ground truth: LEGROS-GUITTON \t Predicted: LEGROS- GUITTON\n",
      "Ground truth: COUREL-WENNEERSC \t Predicted: COUREL-NEMMEERSA\n",
      "Ground truth: JOHANN \t Predicted: NOMAMN\n",
      "Ground truth: PARGNY \t Predicted: PARGNY\n",
      "Ground truth: CAMILLE \t Predicted: CHMILLE\n",
      "Ground truth: RUBEILLON \t Predicted: RUBEILLON\n",
      "Ground truth: ROXANE \t Predicted: ROXANE\n",
      "Ground truth: PERISSIN-FABERI \t Predicted: PERRISSIN FABERT\n",
      "Ground truth: LOLA \t Predicted: LOLA\n",
      "Ground truth: BAPTISTE \t Predicted: BAPTISTE\n",
      "Ground truth: COELLO \t Predicted: COELLO\n",
      "Ground truth: ROUGERIE \t Predicted: ROUGERIE\n",
      "Ground truth: HAJAR \t Predicted: MATAR\n",
      "Ground truth: VOISIN \t Predicted: VOISIN\n",
      "Ground truth: DEBART \t Predicted: DEBART\n",
      "Ground truth: GOMEZ \t Predicted: GOMEZ\n",
      "Ground truth: FMTLTF \t Predicted: EHIITE\n",
      "Ground truth: MELVYN \t Predicted: MELVYN\n",
      "Ground truth: ALICE \t Predicted: ALICE\n",
      "Ground truth: CAPUCINE \t Predicted: CAPUCIN\n",
      "Ground truth: BENSEBIAT \t Predicted: BENSEBIAT\n",
      "Ground truth: MOTTE \t Predicted: MOTTE\n",
      "Ground truth: GOEB \t Predicted: GOER\n",
      "Ground truth: ANSEVIN \t Predicted: ANSEVIN\n",
      "Ground truth: ROUARD \t Predicted: ROUARD\n",
      "Ground truth: GABRIEL \t Predicted: ECABGTEL\n",
      "Ground truth: BIAIS \t Predicted: BEAIS\n",
      "Ground truth: BERAURT \t Predicted: BERAUET\n",
      "Ground truth: ETIENNE \t Predicted: ETIENNE\n",
      "Ground truth: LILOU \t Predicted: LIIOU\n",
      "Ground truth: EMPTY \t Predicted: GOURAA\n",
      "Ground truth: CANU \t Predicted: CANU\n",
      "Ground truth: CLOAREL \t Predicted: CLOAREC\n",
      "Ground truth: BRAGARD \t Predicted: BRAGARD\n",
      "Ground truth: SOK \t Predicted: SOX\n",
      "Ground truth: CACHEUX \t Predicted: ACHEUX\n",
      "Ground truth: GODEFROY \t Predicted: GODEFROY\n",
      "Ground truth: CLEMENT \t Predicted: CLEMENT\n",
      "Ground truth: MAEA \t Predicted: MAEA\n",
      "Ground truth: LOGAN \t Predicted: LOGAN\n",
      "Ground truth: MAXIME \t Predicted: MAXIME\n",
      "Ground truth: CAMERON \t Predicted: CAMERON\n",
      "Ground truth: DUCHAMP \t Predicted: DUCHAMT\n",
      "Ground truth: SCAPPATICCI \t Predicted: JEAPPATILLI\n",
      "Ground truth: MARINE \t Predicted: MARINE\n",
      "Ground truth: BOUANANI \t Predicted: BOUANANI\n",
      "Ground truth: GREPINET \t Predicted: OREBINET\n",
      "Ground truth: EMMY \t Predicted: EMMY\n",
      "Ground truth: MATHIS \t Predicted: MATHIS\n",
      "Ground truth: TIMOTHE \t Predicted: TIMOTHE\n",
      "Ground truth: MORGANE \t Predicted: MORGANE\n",
      "Ground truth: JOVAN \t Predicted: JOUAN\n",
      "Ground truth: JOUVENE \t Predicted: JOUVENE\n",
      "Ground truth: MORGANE \t Predicted: MORGANE\n",
      "Ground truth: CORENTIN \t Predicted: CORFNTIN\n",
      "Ground truth: JEHANNO \t Predicted: JEMANNO\n",
      "Ground truth: KLARA \t Predicted: ALARA\n",
      "Ground truth: GABARD \t Predicted: GABARD\n",
      "Ground truth: GG \t Predicted: EM\n",
      "Ground truth: PAUL \t Predicted: PAUL\n",
      "Ground truth: PLUOT \t Predicted: PLUOT\n",
      "Ground truth: FLORIAN \t Predicted: FLORIAN\n",
      "Ground truth: CLEMENT \t Predicted: CLEMENT\n",
      "Ground truth: ENZO \t Predicted: ENZO\n",
      "Ground truth: MADIEC \t Predicted: MADIEC\n",
      "Ground truth: BALOOU \t Predicted: BALGOU\n",
      "Ground truth: RUNTZ \t Predicted: RUNTZ\n",
      "Ground truth: PONTVERT-DELUCQ \t Predicted: PONTVERT-PELUC\n"
     ]
    },
    {
     "data": {
      "image/png": "[encoded data removed]",
      "text/plain": [
       "<Figure size 432x288 with 1 Axes>"
      ]
     },
     "metadata": {
      "needs_background": "light"
     },
     "output_type": "display_data"
    }
   ],
   "source": [
    "for p, (inp_value, _) in enumerate(validation_generator):\n",
    "    bs = inp_value['input_data'].shape[0]\n",
    "    X_data = inp_value['input_data']\n",
    "    labels = inp_value['input_label']\n",
    "    plt.imshow(X_data[0])\n",
    "    preds = prediction_model.predict(X_data)\n",
    "    pred_texts = decode_batch_predictions(preds)\n",
    "    \n",
    "    \n",
    "    orig_texts = []\n",
    "    for label in labels:\n",
    "        text = ''.join([label_to_char[int(x)] for x in label])\n",
    "        orig_texts.append(text)\n",
    "        \n",
    "    for i in range(bs):\n",
    "        print(f'Ground truth: {orig_texts[i]} \\t Predicted: {pred_texts[i]}')\n",
    "    break"
   ]
  },
  {
   "cell_type": "code",
   "execution_count": null,
   "metadata": {
    "id": "R0wX0mYOd8UH",
    "outputId": "903ec669-d5ff-4f35-a2fc-524603a2649a"
   },
   "outputs": [
    {
     "name": "stdout",
     "output_type": "stream",
     "text": [
      "Predicted Text: JULES\n"
     ]
    },
    {
     "data": {
      "image/png": "[encoded data removed]",
      "text/plain": [
       "<Figure size 432x288 with 1 Axes>"
      ]
     },
     "metadata": {
      "needs_background": "light"
     },
     "output_type": "display_data"
    }
   ],
   "source": [
    "batch_images=np.ones((128,256,64,1),dtype=np.float32)\n",
    "img=cv2.imread('../input/handwriting-recognition/test_v2/test/TEST_0004.jpg')\n",
    "img=cv2.cvtColor(img, cv2.COLOR_BGR2GRAY)\n",
    "img=cv2.resize(img,(256,64))\n",
    "img=(img/255).astype(np.float32)\n",
    "img=img.T\n",
    "img=np.expand_dims(img,axis=-1)\n",
    "batch_images[0]=img\n",
    "x=prediction_model.predict(batch_images)\n",
    "pred_texts = decode_batch_predictions(x)\n",
    "pred_texts = pred_texts[0]\n",
    "im=cv2.imread('../input/handwriting-recognition/test_v2/test/TEST_0004.jpg')\n",
    "plt.imshow(im)\n",
    "print('Predicted Text:',pred_texts)"
   ]
  }
 ],
 "metadata": {
  "colab": {
   "provenance": []
  },
  "kernelspec": {
   "display_name": "Python 3",
   "language": "python",
   "name": "python3"
  },
  "language_info": {
   "codemirror_mode": {
    "name": "ipython",
    "version": 3
   },
   "file_extension": ".py",
   "mimetype": "text/x-python",
   "name": "python",
   "nbconvert_exporter": "python",
   "pygments_lexer": "ipython3",
   "version": "3.8.8"
  }
 },
 "nbformat": 4,
 "nbformat_minor": 1
}
